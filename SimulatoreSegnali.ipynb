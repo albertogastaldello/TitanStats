{
 "cells": [
  {
   "cell_type": "code",
   "execution_count": null,
   "metadata": {},
   "outputs": [],
   "source": [
    "# PUNTI CRITICI\n",
    "# NON TIENE CONTO DELLA CONTEMPORANEITA' POSSIBILE DI ALCUNE OPERAZIONI: SE LA SECONDA OPERAZIONE APRE MENTRE LA PRIMA NON HA ANCORA CHIUSO DEL TUTTO,\n",
    "# IL BALANCE SU CUI SI BASA LA SECONDA OPERAZIONE DOVREBBE ESSERE LO STESSO SUL QUALE SI E' BASATA LA PRIMA -> EVITARE INTERESSE COMPOSTO E BASARSI SEMPRE\n",
    "# SU BALANCE 10000 PUO' ESSERE UNA SOLUZIONE (SOTTOSTIMA IL GUADAGNO EFFETTIVO SE SIAMO OLTRE I 10K, SOVRASTIMA SE SIAMO SOTTO)\n",
    "\n",
    "# NON PUO' TENERE TRACCIA DELL'EQUITY (PER LE PROP) POICHE' NON SAPPIAMO IL DRAWDOWN MA SOLO SE E' ANDATO A SL -> TENENDO UN RISCHIO BASSO E VALUTANDO QUANTE\n",
    "# POSSIBILI OPERAZIONI IN CONTEMPORANEA POTREBBERO ESSERCI, NON DOVREBBERO ESSERCI PROBLEMI"
   ]
  },
  {
   "cell_type": "code",
   "execution_count": null,
   "metadata": {},
   "outputs": [],
   "source": [
    "# importo i dati, seleziono i formatori e unisco le statistiche (ordinandole per data)\n",
    "\n",
    "import pandas as pd\n",
    "from datetime import datetime\n",
    "\n",
    "statistiche=[]\n",
    "formatori = ['NATE', 'REY', 'DAVID']\n",
    "for k in range(len(formatori)):\n",
    "    curr_stats = pd.read_excel('TitanPython.xlsx', sheet_name=f'{formatori[k]} XAUUSD' )\n",
    "    curr_stats['FORMATORE']=formatori[k]\n",
    "    curr_stats['DATA_ORA']=curr_stats.apply(lambda row: datetime.combine(row['GIORNO'].date(), row['ORA']), axis=1)\n",
    "    statistiche.append(curr_stats)\n",
    "\n",
    "statistiche_unito = pd.concat([statistiche[j] for j in range(len(formatori))])\n",
    "statistiche_unito = statistiche_unito.sort_values(by='DATA_ORA')\n",
    "\n",
    "# filtro le statistiche per data, imposto alcuni parametri e valuto la strategia\n",
    "\n",
    "startDate = pd.Timestamp('2025-01-01')\n",
    "endDate = pd.Timestamp('2025-05-04')\n",
    "formatore_risk = {'NATE': 1, 'REY': 1, 'DAVID': 1}    #scegli il rischio da usare per ogni operazione per ogni formatore (1 = 1%; 0.5 = 0.5% e così via)\n",
    "formatore_rr = {'NATE': [1, 2], 'REY': [1, 2, 3], 'DAVID': [1]}  #scegli il RR della strategia per ogni formatore (1:1, 1:1.5, 1:2,...)\n",
    "formatore_parziali = {'NATE': [0.5, 0.5], 'REY': [0.3, 0.3, 0.4], 'DAVID': [1]} # scegli i parziali per ogni formatore\n",
    "\n",
    "statistiche_filtered = statistiche_unito.copy()\n",
    "statistiche_filtered = statistiche_filtered[(statistiche_filtered['GIORNO'] >= startDate) & (statistiche_filtered['GIORNO'] <= endDate)]\n",
    "statistiche_filtered = statistiche_filtered.reset_index(drop=True)\n",
    "balance_array=[]\n",
    "previous_balance = 10000\n",
    "balance_array.append(previous_balance)\n",
    "updated_balance = 0\n",
    "\n",
    "\n",
    "for i in range(len(statistiche_filtered)):\n",
    "    curr_date=statistiche_filtered['GIORNO'][i].date()\n",
    "    curr_hour=statistiche_filtered['ORA'][i]\n",
    "    curr_direction = statistiche_filtered['DIREZIONE'][i]\n",
    "    curr_max_rr=statistiche_filtered['RR MAX'][i]\n",
    "    curr_formatore = statistiche_filtered['FORMATORE'][i]\n",
    "    risk = formatore_risk[curr_formatore]\n",
    "    rr_desired_list = formatore_rr[curr_formatore]\n",
    "    parziali = formatore_parziali[curr_formatore]\n",
    "\n",
    "    print(f'Initial balance: {int(previous_balance)}. Operazione di {curr_formatore} del {curr_date}, ora {curr_hour}, direzione: {curr_direction}')\n",
    "\n",
    "    curr_operation_pnl=0 #tiene aggiornato il profit/loss dell'operazione corrente\n",
    "    percentage_open = 1 #tiene aggiornata la percentuale di posizione ancora aperta\n",
    "\n",
    "    for j in range(len(rr_desired_list)):\n",
    "        curr_rr_desired = rr_desired_list[j]\n",
    "        if(curr_max_rr>=curr_rr_desired):\n",
    "            percentage_open = percentage_open - parziali[j]\n",
    "            curr_operation_pnl = curr_operation_pnl + (risk/100) * curr_rr_desired * parziali[j] * previous_balance\n",
    "            print(f'TP 1:{curr_rr_desired} con parziale {parziali[j]*100}% preso. Position still open: {percentage_open*100}%.')\n",
    "        else:\n",
    "            curr_operation_pnl = curr_operation_pnl - (risk/100) * percentage_open * previous_balance\n",
    "            print(f'SL hit!')\n",
    "            break\n",
    "\n",
    "    updated_balance = previous_balance + curr_operation_pnl\n",
    "    print(f'PnL of the operation: {round(curr_operation_pnl,2)}. New balance: {round(updated_balance,2)}.')\n",
    "    previous_balance = updated_balance\n",
    "\n",
    "    balance_array.append(updated_balance)\n",
    "\n"
   ]
  },
  {
   "cell_type": "code",
   "execution_count": null,
   "metadata": {},
   "outputs": [],
   "source": [
    "# VISUALIZZAZIONE ANDAMENTO BALANCE\n",
    "\n",
    "import matplotlib.pyplot as plt\n",
    "\n",
    "plt.figure(figsize=(15,5))\n",
    "plt.plot(balance_array)"
   ]
  },
  {
   "cell_type": "code",
   "execution_count": null,
   "metadata": {},
   "outputs": [],
   "source": [
    "# VISUALIZZAZIONE DISTRIBUZIONI RR"
   ]
  },
  {
   "cell_type": "code",
   "execution_count": null,
   "metadata": {},
   "outputs": [],
   "source": [
    "\n"
   ]
  }
 ],
 "metadata": {
  "kernelspec": {
   "display_name": "Python 3",
   "language": "python",
   "name": "python3"
  },
  "language_info": {
   "codemirror_mode": {
    "name": "ipython",
    "version": 3
   },
   "file_extension": ".py",
   "mimetype": "text/x-python",
   "name": "python",
   "nbconvert_exporter": "python",
   "pygments_lexer": "ipython3",
   "version": "3.11.9"
  }
 },
 "nbformat": 4,
 "nbformat_minor": 2
}
